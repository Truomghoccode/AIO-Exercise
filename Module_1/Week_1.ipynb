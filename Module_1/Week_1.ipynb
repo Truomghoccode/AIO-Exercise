{
 "cells": [
  {
   "cell_type": "markdown",
   "metadata": {},
   "source": [
    "## F1-Score\n"
   ]
  },
  {
   "cell_type": "code",
   "execution_count": 4,
   "metadata": {},
   "outputs": [
    {
     "name": "stdout",
     "output_type": "stream",
     "text": [
      "Precision: 0.3333333333333333\n",
      "Recall: 0.2857142857142857\n",
      "F1-score: 0.30769230769230765\n",
      "tp fn must be greater than zero\n"
     ]
    }
   ],
   "source": [
    "def precision(tp, fp):\n",
    "    if tp + fp == 0:\n",
    "        return 0.0\n",
    "    return tp / (tp + fp)\n",
    "\n",
    "def recall(tp, fn):\n",
    "    if tp + fn == 0:\n",
    "        return 0.0\n",
    "    return tp / (tp + fn)\n",
    "\n",
    "def f1_score(precision, recall):\n",
    "    if precision + recall == 0:\n",
    "        return 0.0\n",
    "    return 2 * (precision * recall) / (precision + recall)\n",
    "\n",
    "def main(tp, fp, fn):\n",
    "    a = precision(tp, fp)\n",
    "    b = recall(tp, fn)\n",
    "    c = f1_score(a, b)\n",
    "    print(f'Precision: {a}')\n",
    "    print(f'Recall: {b}')\n",
    "    print(f'F1-score: {c}')\n",
    "\n",
    "def check(tp, fp, fn):\n",
    "    if isinstance(tp, int) and isinstance(fp, int) and isinstance(fn, int):\n",
    "        return True\n",
    "    else:\n",
    "        if not isinstance(tp, int):\n",
    "            print('tp', end=\" \")\n",
    "        if not isinstance(fp, int):\n",
    "            print('fp', end=\" \")\n",
    "        if not isinstance(fn, int):\n",
    "            print('fn', end=\" \")\n",
    "        print(\"must be int\")\n",
    "        return False\n",
    "\n",
    "def check_greater_than_zero(tp, fp, fn):\n",
    "    if tp > 0 and fp > 0 and fn > 0:\n",
    "        return True\n",
    "    else:\n",
    "        if tp <= 0:\n",
    "            print('tp', end=\" \")\n",
    "        if fp <= 0:\n",
    "            print('fp', end=\" \")\n",
    "        if fn <= 0:\n",
    "            print('fn', end=\" \")\n",
    "        print('must be greater than zero')\n",
    "        return False\n",
    "\n",
    "if __name__ == \"__main__\":\n",
    "    tp, fp, fn = 2, 4, 5\n",
    "    if check(tp, fp, fn) and check_greater_than_zero(tp, fp, fn):\n",
    "      main(tp, fp, fn)\n",
    "\n",
    "    tp, fp, fn = -3, 7 , -3\n",
    "    if check(tp, fp, fn) and check_greater_than_zero(tp, fp, fn):\n",
    "      main(tp, fp, fn)"
   ]
  },
  {
   "cell_type": "markdown",
   "metadata": {},
   "source": [
    "### Activation function"
   ]
  },
  {
   "cell_type": "code",
   "execution_count": 5,
   "metadata": {},
   "outputs": [
    {
     "name": "stdout",
     "output_type": "stream",
     "text": [
      "0.731 0.993 0.018 0.953 0.119 "
     ]
    }
   ],
   "source": [
    "import math\n",
    "\n",
    "def sigmoid(x):\n",
    "  sigmoid = 1/(1 + math.exp(-x))\n",
    "  return round(sigmoid,4)\n",
    "\n",
    "def main(lst_data):\n",
    "  lst_sigmoid = []\n",
    "\n",
    "  for i in lst_data:\n",
    "    x = sigmoid(i)\n",
    "    lst_sigmoid.append(x)\n",
    "\n",
    "  for i in lst_sigmoid:\n",
    "    print('%.3f' %i ,end = \" \")\n",
    "if __name__ == '__main__':\n",
    "  lst_data = [1,5,-4,3,-2]\n",
    "  main(lst_data)"
   ]
  },
  {
   "cell_type": "code",
   "execution_count": 6,
   "metadata": {},
   "outputs": [
    {
     "name": "stdout",
     "output_type": "stream",
     "text": [
      "[1, 5, 0, 3, 0]\n"
     ]
    }
   ],
   "source": [
    "def relu(x):\n",
    "  if x > 0:\n",
    "    return x\n",
    "  else:\n",
    "    return 0\n",
    "\n",
    "def main():\n",
    "    lst_data = [1,5,-4,3,-2]\n",
    "    lst_relu = []\n",
    "    for i in (lst_data):\n",
    "      x = relu(i)\n",
    "      lst_relu.append(x)\n",
    "    print(lst_relu)\n",
    "\n",
    "main()"
   ]
  },
  {
   "cell_type": "code",
   "execution_count": 7,
   "metadata": {},
   "outputs": [
    {
     "name": "stdout",
     "output_type": "stream",
     "text": [
      "[-0.01, 5, -0.01, 3, -0.01]\n"
     ]
    }
   ],
   "source": [
    "def elu(alpha,x):\n",
    "  if x > 0:\n",
    "    return x\n",
    "  else:\n",
    "    return round(alpha*(math.exp(x)-1),2)\n",
    "def main():\n",
    "    alpha = 0.01\n",
    "    lst_data = [-1,5,-4,3,-2]\n",
    "    lst_elu = []\n",
    "    for i in (lst_data):\n",
    "      x = elu(alpha,i)\n",
    "      lst_elu.append(x)\n",
    "    print(lst_elu)\n",
    "\n",
    "main()"
   ]
  },
  {
   "cell_type": "code",
   "execution_count": 8,
   "metadata": {},
   "outputs": [
    {
     "name": "stdout",
     "output_type": "stream",
     "text": [
      "True\n",
      "False\n"
     ]
    }
   ],
   "source": [
    "def is_number(n):\n",
    "    try:\n",
    "        float(n)\n",
    "        return True\n",
    "    except ValueError:\n",
    "        return False\n",
    "\n",
    "assert is_number(3) == 1.0\n",
    "assert is_number('-2a') == 0.0\n",
    "print(is_number(1))\n",
    "print(is_number('n'))"
   ]
  },
  {
   "cell_type": "code",
   "execution_count": 9,
   "metadata": {},
   "outputs": [
    {
     "name": "stdout",
     "output_type": "stream",
     "text": [
      "Nhập activation function:\n",
      " 1:Sigmoid\n",
      " 2:RELU\n",
      " 3:ELU\n",
      "\n",
      "sigmoid: f(-1.0) = 0.2689\n"
     ]
    }
   ],
   "source": [
    "def activation(x,alpha):\n",
    "  string_function =['sigmoid','relu','elu']\n",
    "  print(\"Nhập activation function:\\n 1:Sigmoid\\n 2:RELU\\n 3:ELU\\n\")\n",
    "  op = input().lower()\n",
    "\n",
    "  if op not in string_function:\n",
    "    print(f'{op} is not supported')\n",
    "  else:\n",
    "    x = float(x)\n",
    "    if op == 'sigmoid':\n",
    "      print(f'{op}: f({x}) = {sigmoid(x)}')\n",
    "    elif op == 'relu':\n",
    "       print(f'{op}: f({x}) = {relu(x)}')\n",
    "    elif op == 'elu':\n",
    "       print(f'{op}: f({x}) = {elu(alpha,x)}')\n",
    "\n",
    "x = -1\n",
    "alpha = 0.01\n",
    "if is_number(x):\n",
    "  activation(x,alpha)\n",
    "else:\n",
    "  print('x must be a number')"
   ]
  },
  {
   "cell_type": "markdown",
   "metadata": {},
   "source": [
    "### Loss function"
   ]
  },
  {
   "cell_type": "code",
   "execution_count": 2,
   "metadata": {},
   "outputs": [
    {
     "name": "stdout",
     "output_type": "stream",
     "text": [
      "\n",
      "loss name: MAE , sample: 0, pred: 0.397067736191149, target: 6.825543925538373, loss: 6.428476189347224\n",
      "loss name: MAE , sample: 1, pred: 4.404613896535567, target: 7.528321195390264, loss: 9.552183488201921\n",
      "loss name: MAE , sample: 2, pred: 8.53085949266392, target: 4.815470486912225, loss: 13.267572493953615\n",
      "loss name: MAE , sample: 3, pred: 8.706704402090075, target: 6.12999184734743, loss: 15.84428504869626\n",
      "loss name: MAE , sample: 4, pred: 0.2954787093681144, target: 0.22911350941183684, loss: 15.910650248652537\n",
      "final MAE: 3.1821300497305076\n",
      "\n",
      "loss name: MSE , sample: 0, pred: 0.397067736191149, target: 6.825543925538373, loss: 41.3253061170042\n",
      "loss name: MSE , sample: 1, pred: 4.404613896535567, target: 7.528321195390264, loss: 51.08285340592231\n",
      "loss name: MSE , sample: 2, pred: 8.53085949266392, target: 4.815470486912225, loss: 64.88696886998288\n",
      "loss name: MSE , sample: 3, pred: 8.706704402090075, target: 6.12999184734743, loss: 71.52641645975125\n",
      "loss name: MSE , sample: 4, pred: 0.2954787093681144, target: 0.22911350941183684, loss: 71.53082079951648\n",
      "final MSE: 14.306164159903295\n",
      "\n",
      "loss name: RMSE , sample: 0, pred: 0.397067736191149, target: 6.825543925538373, loss: 41.3253061170042\n",
      "loss name: RMSE , sample: 1, pred: 4.404613896535567, target: 7.528321195390264, loss: 51.08285340592231\n",
      "loss name: RMSE , sample: 2, pred: 8.53085949266392, target: 4.815470486912225, loss: 64.88696886998288\n",
      "loss name: RMSE , sample: 3, pred: 8.706704402090075, target: 6.12999184734743, loss: 71.52641645975125\n",
      "loss name: RMSE , sample: 4, pred: 0.2954787093681144, target: 0.22911350941183684, loss: 71.53082079951648\n",
      "final RMSE: 1.3005836796122174\n"
     ]
    }
   ],
   "source": [
    "import random\n",
    "import math\n",
    "\n",
    "def check(num_sample):\n",
    "  if type(num_sample) != int:\n",
    "    print('number of sample must be an interger number')\n",
    "    return False\n",
    "  return True\n",
    "\n",
    "def list_data(num_sample,data_pre,data_target):\n",
    "\n",
    "  for i in range(num_sample):\n",
    "\n",
    "    pred = random.uniform(0,10)\n",
    "    data_pre.append(pred)\n",
    "\n",
    "    target = random.uniform(0,10)\n",
    "    data_target.append(target)\n",
    "\n",
    "def MAE(num_sample,data_pre,data_target):\n",
    "  loss = 0\n",
    "  for i in range(num_sample):\n",
    "    loss += abs(data_target[i] - data_pre[i])\n",
    "    print(f'loss name: MAE , sample: {i}, pred: {data_pre[i]}, target: {data_target[i]}, loss: {loss}')\n",
    "\n",
    "  print(f'final MAE: {loss/num_sample}')\n",
    "\n",
    "def MSE(num_sample,data_pre,data_target):\n",
    "  loss = 0\n",
    "  for i in range(num_sample):\n",
    "    loss += (data_target[i] - data_pre[i])**2\n",
    "    print(f'loss name: MSE , sample: {i}, pred: {data_pre[i]}, target: {data_target[i]}, loss: {loss}')\n",
    "\n",
    "  print(f'final MSE: {loss/num_sample}')\n",
    "\n",
    "def RMSE(num_sample,data_pre,data_target):\n",
    "  loss = 0\n",
    "  for i in range(num_sample):\n",
    "    loss += (data_target[i] - data_pre[i])**2\n",
    "    print(f'loss name: RMSE , sample: {i}, pred: {data_pre[i]}, target: {data_target[i]}, loss: {loss}')\n",
    "  loss = math.sqrt(loss)\n",
    "  print(f'final RMSE: {math.sqrt(loss/num_sample)}')\n",
    "\n",
    "if __name__ == \"__main__\":\n",
    "  num_sample = 5\n",
    "  data_pre = []\n",
    "  data_target = []\n",
    "\n",
    "  if check(num_sample):\n",
    "    list_data(num_sample,data_pre,data_target)\n",
    "    print()\n",
    "    MAE(num_sample,data_pre,data_target)\n",
    "    print()\n",
    "    MSE(num_sample,data_pre,data_target)\n",
    "    print()\n",
    "    RMSE(num_sample,data_pre,data_target)"
   ]
  },
  {
   "cell_type": "markdown",
   "metadata": {},
   "source": [
    "### Trigonometry"
   ]
  },
  {
   "cell_type": "code",
   "execution_count": 3,
   "metadata": {},
   "outputs": [
    {
     "name": "stdout",
     "output_type": "stream",
     "text": [
      "3.14\n",
      "1.0\n",
      "11.530292029865986\n",
      "11.573574824666185\n"
     ]
    }
   ],
   "source": [
    "import math\n",
    "\n",
    "def sin(x,n):\n",
    "  sinx = 0\n",
    "  for i in range(n):\n",
    "    a = ((-1) ** i) * (x ** (2 * i + 1))\n",
    "    b = math.factorial(2 * i + 1)\n",
    "    sinx +=  (a / b)\n",
    "    return sinx\n",
    "\n",
    "def cos(x,n):\n",
    "  cosx = 0\n",
    "  for i in range(n):\n",
    "    a = ((-1) ** i) * x**(2*i)\n",
    "    b = math.factorial(2 * i)\n",
    "    cosx += a/b\n",
    "    return cosx\n",
    "\n",
    "def sinh(x,n):\n",
    "  sinhx = 0\n",
    "  for i in range(n):\n",
    "    a = x**(2*i +1)\n",
    "    b = math.factorial(2*i +1)\n",
    "    sinhx += a/b\n",
    "  return sinhx\n",
    "\n",
    "def cosh(x,n):\n",
    "  coshx = 0\n",
    "  for i in range(n):\n",
    "    a = x**(2*i)\n",
    "    b = math.factorial(2*i)\n",
    "    coshx += a/b\n",
    "  return coshx\n",
    "\n",
    "print(sin(3.14,10))\n",
    "print(cos(3.14,10))\n",
    "print(sinh(3.14,10))\n",
    "print(cosh(3.14,10))"
   ]
  },
  {
   "cell_type": "code",
   "execution_count": 8,
   "metadata": {},
   "outputs": [
    {
     "name": "stdout",
     "output_type": "stream",
     "text": [
      "3.14\n",
      "1.0\n",
      "11.530292029865986\n",
      "11.573574824666185\n"
     ]
    }
   ],
   "source": [
    "import math\n",
    "\n",
    "def sin(x,n):\n",
    "  sinx = 0\n",
    "  for i in range(n):\n",
    "    a = ((-1) ** i) * (x ** (2 * i + 1))\n",
    "    b = math.factorial(2 * i + 1)\n",
    "    sinx +=  (a / b)\n",
    "    return sinx\n",
    "\n",
    "def cos(x,n):\n",
    "  cosx = 0\n",
    "  for i in range(n):\n",
    "    a = ((-1) ** i) * x**(2*i)\n",
    "    b = math.factorial(2 * i)\n",
    "    cosx += a/b\n",
    "    return cosx\n",
    "\n",
    "def sinh(x,n):\n",
    "  sinhx = 0\n",
    "  for i in range(n):\n",
    "    a = x**(2*i +1)\n",
    "    b = math.factorial(2*i +1)\n",
    "    sinhx += a/b\n",
    "  return sinhx\n",
    "\n",
    "def cosh(x,n):\n",
    "  coshx = 0\n",
    "  for i in range(n):\n",
    "    a = x**(2*i)\n",
    "    b = math.factorial(2*i)\n",
    "    coshx += a/b\n",
    "  return coshx\n",
    "\n",
    "print(sin(3.14,10))\n",
    "print(cos(3.14,10))\n",
    "print(sinh(3.14,10))\n",
    "print(cosh(3.14,10))"
   ]
  },
  {
   "cell_type": "markdown",
   "metadata": {},
   "source": [
    "### Mean Difference"
   ]
  },
  {
   "cell_type": "code",
   "execution_count": 4,
   "metadata": {},
   "outputs": [
    {
     "name": "stdout",
     "output_type": "stream",
     "text": [
      "0.025031328369998107\n",
      "0.03544417213033135\n",
      "0.05625552183565574\n",
      "0.45836890322464546\n"
     ]
    }
   ],
   "source": [
    "def md_nre_single_sample(y,y_hat,n,p):\n",
    "  y_root = y ** (1/n)\n",
    "  y_hat_root = y_hat **(1/n)\n",
    "  dif = y_root - y_hat_root\n",
    "  loss = dif**p\n",
    "  return loss\n",
    "\n",
    "print(md_nre_single_sample(100,99.5,2,1))\n",
    "print(md_nre_single_sample(50,49.5,2,1))\n",
    "print(md_nre_single_sample(20,19.5,2,1))\n",
    "print(md_nre_single_sample(0.6,0.1,2,1))"
   ]
  }
 ],
 "metadata": {
  "kernelspec": {
   "display_name": "Python 3",
   "language": "python",
   "name": "python3"
  },
  "language_info": {
   "codemirror_mode": {
    "name": "ipython",
    "version": 3
   },
   "file_extension": ".py",
   "mimetype": "text/x-python",
   "name": "python",
   "nbconvert_exporter": "python",
   "pygments_lexer": "ipython3",
   "version": "3.12.0"
  }
 },
 "nbformat": 4,
 "nbformat_minor": 2
}
